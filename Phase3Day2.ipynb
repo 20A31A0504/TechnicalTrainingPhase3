{
  "nbformat": 4,
  "nbformat_minor": 0,
  "metadata": {
    "colab": {
      "provenance": [],
      "authorship_tag": "ABX9TyON2jwxpAULA5nzKluDX+wL",
      "include_colab_link": true
    },
    "kernelspec": {
      "name": "python3",
      "display_name": "Python 3"
    },
    "language_info": {
      "name": "python"
    }
  },
  "cells": [
    {
      "cell_type": "markdown",
      "metadata": {
        "id": "view-in-github",
        "colab_type": "text"
      },
      "source": [
        "<a href=\"https://colab.research.google.com/github/20A31A0504/TechnicalTrainingPhase3/blob/main/Phase3Day2.ipynb\" target=\"_parent\"><img src=\"https://colab.research.google.com/assets/colab-badge.svg\" alt=\"Open In Colab\"/></a>"
      ]
    },
    {
      "cell_type": "code",
      "execution_count": null,
      "metadata": {
        "id": "xnw-ts82C0h3",
        "colab": {
          "base_uri": "https://localhost:8080/"
        },
        "outputId": "f7a42953-ec55-433c-fbc2-ec4f0da5bd9f"
      },
      "outputs": [
        {
          "output_type": "stream",
          "name": "stdout",
          "text": [
            "Meeting point is 53\n",
            "start loop 2\n",
            "60 2 1 45 92 53 "
          ]
        }
      ],
      "source": [
        "class Node:#remove loop in linkeddList used foid algorithm\n",
        "  def __init__(self,data):\n",
        "    self.data=data\n",
        "    self.next=None\n",
        "class LinkedList:\n",
        "  def __init__(self):\n",
        "    self.head=None\n",
        "\n",
        "\n",
        "  def detectAndRemoveLoop(self):\n",
        "    if self.head is None:\n",
        "      return\n",
        "    if self.head.next is None:\n",
        "      return\n",
        "    slow_p=self.head\n",
        "    fast_p=self.head\n",
        "    while(slow_p and fast_p and fast_p.next):\n",
        "      slow_p=slow_p.next\n",
        "      fast_p=fast_p.next.next\n",
        "      if slow_p==fast_p:\n",
        "        print(\"Meeting point is\",fast_p.data)\n",
        "        slow_p=self.head\n",
        "        while(slow_p.next!=fast_p.next):\n",
        "          slow_p=slow_p.next\n",
        "          fast_p=fast_p.next\n",
        "        print(\"start loop\",fast_p.next.data)\n",
        "        fast_p.next=None\n",
        "  def printList(self):\n",
        "    temp=self.head\n",
        "    while(temp):\n",
        "      print(temp.data,end=\" \")\n",
        "      temp=temp.next\n",
        "llist=LinkedList()\n",
        "llist.head=Node(60)\n",
        "llist.head.next=Node(2)\n",
        "llist.head.next.next=Node(1)\n",
        "llist.head.next.next.next=Node(45)\n",
        "llist.head.next.next.next.next=Node(92)\n",
        "extra=Node(53)\n",
        "llist.head.next.next.next.next.next=extra\n",
        "extra.next=llist.head.next\n",
        "llist.detectAndRemoveLoop()\n",
        "llist.printList()\n"
      ]
    },
    {
      "cell_type": "code",
      "source": [
        "#minimum spanning tree using kruskals algorithm\n",
        "class Graph:\n",
        "  def __init__(self,vertices):\n",
        "    self.v=vertices\n",
        "    self.graph=[]\n",
        "  def add_edge(self,u,v,w):\n",
        "    self.graph.append([u,v,w])\n",
        "  def find(self,parent,i):\n",
        "    if parent[i]==i:\n",
        "      return i\n",
        "    return self.find(parent,parent[i])\n",
        "\n",
        "\n",
        "  def apply_union(self,parent,rank,x,y):\n",
        "    print(\"rank\",rank)\n",
        "    xroot=self.find(parent,x)\n",
        "    yroot=self.find(parent,y)\n",
        "    if rank[xroot]<rank[yroot]:\n",
        "      parent[xroot]=yroot\n",
        "    elif rank[xroot]>rank[yroot]:\n",
        "      parent[yroot]=xroot\n",
        "    else:\n",
        "      parent[yroot]=xroot\n",
        "      rank[xroot]+=1\n",
        "  def kruskal_algo(self):\n",
        "    result=[]\n",
        "    i,e=0,0\n",
        "    self.graph=sorted(self.graph,key=lambda item: item[2])\n",
        "    parent=[]\n",
        "    rank=[]\n",
        "    for node in range(self.v):\n",
        "      print(\"node:\",node)\n",
        "      print()\n",
        "      parent.append(node)\n",
        "      rank.append(0)\n",
        "    print(\"parent\",parent)\n",
        "    print(\"rank\",rank)\n",
        "    while e<self.v-1:\n",
        "      u,v,w=self.graph[i]\n",
        "      print('u:',u,\"v:\",v,\"w:\",w)\n",
        "      i=i+1\n",
        "      x=self.find(parent,u)\n",
        "      print(\"x:\",x,\"parent of u:\",u)\n",
        "      y=self.find(parent,v)\n",
        "      print(\"y\",y)\n",
        "      if x!=y:\n",
        "        e=e+1\n",
        "        result.append([u,v,w])\n",
        "        self.apply_union(parent,rank,x,y)\n",
        "    for u,v, weight in result:\n",
        "      print(\"%d - %d: %d\" %(u,v,weight))\n",
        "g=Graph(6)\n",
        "g.add_edge(0,1,4)\n",
        "g.add_edge(0,2,4)\n",
        "g.add_edge(1,2,2)\n",
        "g.add_edge(1,0,4)\n",
        "g.add_edge(2,0,4)\n",
        "g.add_edge(2,1,2)\n",
        "g.add_edge(2,3,3)\n",
        "g.add_edge(2,5,2)\n",
        "g.add_edge(2,4,4)\n",
        "g.add_edge(3,2,3)\n",
        "g.add_edge(3,4,3)\n",
        "g.add_edge(4,2,4)\n",
        "g.add_edge(4,3,3)\n",
        "g.add_edge(5,2,2)\n",
        "g.add_edge(5,4,3)\n",
        "g.kruskal_algo()\n",
        "\n"
      ],
      "metadata": {
        "id": "6Cv_VyBsNsdF",
        "colab": {
          "base_uri": "https://localhost:8080/"
        },
        "outputId": "f9923320-1255-421d-9dbf-7b96dc50a751"
      },
      "execution_count": null,
      "outputs": [
        {
          "output_type": "stream",
          "name": "stdout",
          "text": [
            "node: 0\n",
            "\n",
            "node: 1\n",
            "\n",
            "node: 2\n",
            "\n",
            "node: 3\n",
            "\n",
            "node: 4\n",
            "\n",
            "node: 5\n",
            "\n",
            "parent [0, 1, 2, 3, 4, 5]\n",
            "rank [0, 0, 0, 0, 0, 0]\n",
            "u: 1 v: 2 w: 2\n",
            "x: 1 parent of u: 1\n",
            "y 2\n",
            "rank [0, 0, 0, 0, 0, 0]\n",
            "u: 2 v: 1 w: 2\n",
            "x: 1 parent of u: 2\n",
            "y 1\n",
            "u: 2 v: 5 w: 2\n",
            "x: 1 parent of u: 2\n",
            "y 5\n",
            "rank [0, 1, 0, 0, 0, 0]\n",
            "u: 5 v: 2 w: 2\n",
            "x: 1 parent of u: 5\n",
            "y 1\n",
            "u: 2 v: 3 w: 3\n",
            "x: 1 parent of u: 2\n",
            "y 3\n",
            "rank [0, 1, 0, 0, 0, 0]\n",
            "u: 3 v: 2 w: 3\n",
            "x: 1 parent of u: 3\n",
            "y 1\n",
            "u: 3 v: 4 w: 3\n",
            "x: 1 parent of u: 3\n",
            "y 4\n",
            "rank [0, 1, 0, 0, 0, 0]\n",
            "u: 4 v: 3 w: 3\n",
            "x: 1 parent of u: 4\n",
            "y 1\n",
            "u: 5 v: 4 w: 3\n",
            "x: 1 parent of u: 5\n",
            "y 1\n",
            "u: 0 v: 1 w: 4\n",
            "x: 0 parent of u: 0\n",
            "y 1\n",
            "rank [0, 1, 0, 0, 0, 0]\n",
            "1 - 2: 2\n",
            "2 - 5: 2\n",
            "2 - 3: 3\n",
            "3 - 4: 3\n",
            "0 - 1: 4\n"
          ]
        }
      ]
    },
    {
      "cell_type": "code",
      "source": [
        "#minimum spanning tree using prims algorithm\n",
        "INF=9999999\n",
        "N=5\n",
        "G=[[0,19,5,0,0],\n",
        "   [19,0,5,9,2],\n",
        "   [5,5,0,1,6],\n",
        "   [0,9,1,0,1],\n",
        "   [0,2,6,1,0]]\n",
        "selected_node=[0,0,0,0,0]\n",
        "no_edge=0\n",
        "selected_node[0]=True\n",
        "print(\"Edge: Weight\\n\")\n",
        "while(no_edge<N-1):\n",
        "  minimum=INF\n",
        "  a=0\n",
        "  b=0\n",
        "  for m in range(N):\n",
        "    if selected_node[m]:\n",
        "      for n in range(N):\n",
        "        if ((not selected_node[n]) and G[m][n]):\n",
        "          if minimum>G[m][n]:\n",
        "            minimum=G[m][n]\n",
        "            a=m\n",
        "            b=n\n",
        "  print(str(a)+\"-\"+str(b)+\":\"+str(G[a][b]))\n",
        "  selected_node[b]=True\n",
        "  no_edge+=1\n",
        "\n"
      ],
      "metadata": {
        "id": "REp6xj4zCZKt",
        "colab": {
          "base_uri": "https://localhost:8080/"
        },
        "outputId": "b5fe384a-cbfe-446c-8a31-708315158260"
      },
      "execution_count": null,
      "outputs": [
        {
          "output_type": "stream",
          "name": "stdout",
          "text": [
            "Edge: Weight\n",
            "\n",
            "0-2:5\n",
            "2-3:1\n",
            "3-4:1\n",
            "4-1:2\n"
          ]
        }
      ]
    },
    {
      "cell_type": "code",
      "source": [],
      "metadata": {
        "id": "D02mMJ7zQIVU"
      },
      "execution_count": null,
      "outputs": []
    }
  ]
}