{
  "nbformat": 4,
  "nbformat_minor": 0,
  "metadata": {
    "colab": {
      "provenance": [],
      "authorship_tag": "ABX9TyPJzJxNlb9UF9e8wSk8P9Fs",
      "include_colab_link": true
    },
    "kernelspec": {
      "name": "python3",
      "display_name": "Python 3"
    },
    "language_info": {
      "name": "python"
    }
  },
  "cells": [
    {
      "cell_type": "markdown",
      "metadata": {
        "id": "view-in-github",
        "colab_type": "text"
      },
      "source": [
        "<a href=\"https://colab.research.google.com/github/20A31A0504/TechnicalTrainingPhase3/blob/main/Phase3Day5.ipynb\" target=\"_parent\"><img src=\"https://colab.research.google.com/assets/colab-badge.svg\" alt=\"Open In Colab\"/></a>"
      ]
    },
    {
      "cell_type": "code",
      "execution_count": null,
      "metadata": {
        "id": "NFxUrhsjg1il"
      },
      "outputs": [],
      "source": []
    },
    {
      "cell_type": "markdown",
      "source": [
        "1.create a square matrix rotate it to 90 degrees and print the output.\n",
        "2.print spiral traversal of a matrix"
      ],
      "metadata": {
        "id": "A_h6NGkahp3G"
      }
    },
    {
      "cell_type": "code",
      "source": [
        "mat=[[1,2,3,4],\n",
        "     [5,6,7,8],\n",
        "     [9,10,11,12],\n",
        "     [13,14,15,16]]\n",
        "d=0\n",
        "top=0\n",
        "left=0\n",
        "right=len(mat)-1\n",
        "down=len(mat)-1\n",
        "for i in range(len(mat)*2-1):\n",
        "  if d==0:\n",
        "    for j in range(left,right+1):\n",
        "      print(mat[top][j],end=\" \")\n",
        "    top+=1\n",
        "  elif d==1:\n",
        "    for j in range(top,down+1):\n",
        "      print(mat[j][right],end=\" \")\n",
        "    right-=1\n",
        "  elif d==2:\n",
        "    for j in range(right,left-1,-1):\n",
        "      print(mat[down][j],end=\" \")\n",
        "    down-=1\n",
        "  elif d==3:\n",
        "    for j in range(down,top-1,-1):\n",
        "      print(mat[j][left],end=\" \")\n",
        "    left=left+1\n",
        "\n",
        "  d=(d+1)%4\n"
      ],
      "metadata": {
        "colab": {
          "base_uri": "https://localhost:8080/"
        },
        "id": "TNhTd73luJGW",
        "outputId": "9810e100-8a82-4b0c-c940-09692a918dd1"
      },
      "execution_count": null,
      "outputs": [
        {
          "output_type": "stream",
          "name": "stdout",
          "text": [
            "1\n",
            "2\n",
            "3\n",
            "4\n",
            "8\n",
            "12\n",
            "16\n",
            "15\n",
            "14\n",
            "13\n",
            "9\n",
            "5\n",
            "6\n",
            "7\n",
            "11\n",
            "10\n"
          ]
        }
      ]
    },
    {
      "cell_type": "code",
      "source": [
        "arr=[[1,2,3,4],\n",
        "     [5,6,7,8],\n",
        "     [9,10,11,12],\n",
        "     [13,14,15,16]]\n",
        "for j in range(len(arr)):\n",
        "  for i in range(len(arr)-1,-1,-1):\n",
        "    print(arr[i][j],end=\" \")\n",
        "  print()"
      ],
      "metadata": {
        "id": "rFccIMYHwvLX"
      },
      "execution_count": null,
      "outputs": []
    },
    {
      "cell_type": "code",
      "source": [
        "from sys import maxsize\n",
        "from intertools import permutations\n",
        "v=4\n",
        "def travellingSalesmanProblem(graph,s):\n",
        "  vertex=[]\n",
        "  for i in range(v):\n",
        "    if i!=s:\n",
        "      vertex.append(i)\n",
        "  min_path=maxsize\n",
        "  next_permutation=permutations(vertex)\n",
        "  for i in next_permutation:\n",
        "    current_pathweight=0\n",
        "    k=s\n",
        "    for j in i:\n",
        "      current_pathweight+=graph[j][j]\n",
        "      k=j\n",
        "    current_pathweight+=graph[k][s]\n",
        "    min_path=min(min_path,current_pathweight)\n",
        "  return min_path\n",
        "if __name__==\"__main__\":\n",
        "  graph=[[0,10,15,20],[10,0,35,25],[15,35,0,30],[20,25,30,0]]\n",
        "  s=0\n",
        "  print(travellingSalesmanProblem(graph,s))\n"
      ],
      "metadata": {
        "id": "49b7582h2mLK"
      },
      "execution_count": null,
      "outputs": []
    },
    {
      "cell_type": "code",
      "source": [
        "def push(l,ch,el,i,j):\n",
        "  if(ch==1):\n",
        "    l.insert(i,ele)\n",
        "    i+=1\n",
        "  if(ch==2):\n",
        "    l.insert(j,ele)\n",
        "    j-=1\n",
        "  print(\"element pushed into the stack\")\n",
        "def pop(l,ch):\n",
        "  if(ch==1):\n",
        "    if(len(l[0])>0):\n",
        "      l[0].pop()\n",
        "    else:\n",
        "      print(\"stack1 is empty\")\n",
        "\n",
        "\n",
        "\n",
        "l=[]\n",
        "i=0\n",
        "j=9\n",
        "print(\"operations:\\n 1.push \\t 2.pop \\t 3.display \\t 4.peek \\t 5.exit\")\n",
        "\n",
        "while(ch!=4):\n",
        "  ch=int(input(\"which operation you want to perform\"))\n",
        "  if(ch==1):\n",
        "    sch=int(input(\"In Which stack you want to push element: \"))\n",
        "    ele=int(input(\"enter element:\"))\n",
        "    push(l,sch,ele,i,j)\n",
        "  elif(ch==2):\n",
        "    sch=int(input(\"In Which stack you want to pop element: \"))\n",
        "    pop(l,sch)\n",
        "  elif(ch==3):\n",
        "    print(l)\n",
        "  elif(ch==4):\n",
        "    break\n",
        "\n"
      ],
      "metadata": {
        "id": "MxXzg1WXDdIJ",
        "colab": {
          "base_uri": "https://localhost:8080/",
          "height": 590
        },
        "outputId": "c054a385-4f4b-435b-d545-e7b02af9edfb"
      },
      "execution_count": null,
      "outputs": [
        {
          "output_type": "stream",
          "name": "stdout",
          "text": [
            "operations:\n",
            " 1.push \t 2.pop \t 3.display \t 4.peek \t 5.exit\n",
            "which operation you want to perform1\n",
            "In Which stack you want to push element: 1\n",
            "enter element:34\n",
            "element pushed into the stack\n",
            "In Which stack you want to push element: 1\n",
            "enter element:2\n",
            "element pushed into the stack\n",
            "In Which stack you want to push element: 3\n",
            "enter element:32\n",
            "element pushed into the stack\n"
          ]
        },
        {
          "output_type": "error",
          "ename": "KeyboardInterrupt",
          "evalue": "ignored",
          "traceback": [
            "\u001b[0;31m---------------------------------------------------------------------------\u001b[0m",
            "\u001b[0;31mKeyboardInterrupt\u001b[0m                         Traceback (most recent call last)",
            "\u001b[0;32m<ipython-input-12-0e1b979cd8f8>\u001b[0m in \u001b[0;36m<cell line: 23>\u001b[0;34m()\u001b[0m\n\u001b[1;32m     23\u001b[0m \u001b[0;32mwhile\u001b[0m\u001b[0;34m(\u001b[0m\u001b[0mch\u001b[0m\u001b[0;34m!=\u001b[0m\u001b[0;36m4\u001b[0m\u001b[0;34m)\u001b[0m\u001b[0;34m:\u001b[0m\u001b[0;34m\u001b[0m\u001b[0;34m\u001b[0m\u001b[0m\n\u001b[1;32m     24\u001b[0m   \u001b[0;32mif\u001b[0m\u001b[0;34m(\u001b[0m\u001b[0mch\u001b[0m\u001b[0;34m==\u001b[0m\u001b[0;36m1\u001b[0m\u001b[0;34m)\u001b[0m\u001b[0;34m:\u001b[0m\u001b[0;34m\u001b[0m\u001b[0;34m\u001b[0m\u001b[0m\n\u001b[0;32m---> 25\u001b[0;31m     \u001b[0msch\u001b[0m\u001b[0;34m=\u001b[0m\u001b[0mint\u001b[0m\u001b[0;34m(\u001b[0m\u001b[0minput\u001b[0m\u001b[0;34m(\u001b[0m\u001b[0;34m\"In Which stack you want to push element: \"\u001b[0m\u001b[0;34m)\u001b[0m\u001b[0;34m)\u001b[0m\u001b[0;34m\u001b[0m\u001b[0;34m\u001b[0m\u001b[0m\n\u001b[0m\u001b[1;32m     26\u001b[0m     \u001b[0mele\u001b[0m\u001b[0;34m=\u001b[0m\u001b[0mint\u001b[0m\u001b[0;34m(\u001b[0m\u001b[0minput\u001b[0m\u001b[0;34m(\u001b[0m\u001b[0;34m\"enter element:\"\u001b[0m\u001b[0;34m)\u001b[0m\u001b[0;34m)\u001b[0m\u001b[0;34m\u001b[0m\u001b[0;34m\u001b[0m\u001b[0m\n\u001b[1;32m     27\u001b[0m     \u001b[0mpush\u001b[0m\u001b[0;34m(\u001b[0m\u001b[0ml\u001b[0m\u001b[0;34m,\u001b[0m\u001b[0msch\u001b[0m\u001b[0;34m,\u001b[0m\u001b[0mele\u001b[0m\u001b[0;34m,\u001b[0m\u001b[0mi\u001b[0m\u001b[0;34m,\u001b[0m\u001b[0mj\u001b[0m\u001b[0;34m)\u001b[0m\u001b[0;34m\u001b[0m\u001b[0;34m\u001b[0m\u001b[0m\n",
            "\u001b[0;32m/usr/local/lib/python3.10/dist-packages/ipykernel/kernelbase.py\u001b[0m in \u001b[0;36mraw_input\u001b[0;34m(self, prompt)\u001b[0m\n\u001b[1;32m    849\u001b[0m                 \u001b[0;34m\"raw_input was called, but this frontend does not support input requests.\"\u001b[0m\u001b[0;34m\u001b[0m\u001b[0;34m\u001b[0m\u001b[0m\n\u001b[1;32m    850\u001b[0m             )\n\u001b[0;32m--> 851\u001b[0;31m         return self._input_request(str(prompt),\n\u001b[0m\u001b[1;32m    852\u001b[0m             \u001b[0mself\u001b[0m\u001b[0;34m.\u001b[0m\u001b[0m_parent_ident\u001b[0m\u001b[0;34m,\u001b[0m\u001b[0;34m\u001b[0m\u001b[0;34m\u001b[0m\u001b[0m\n\u001b[1;32m    853\u001b[0m             \u001b[0mself\u001b[0m\u001b[0;34m.\u001b[0m\u001b[0m_parent_header\u001b[0m\u001b[0;34m,\u001b[0m\u001b[0;34m\u001b[0m\u001b[0;34m\u001b[0m\u001b[0m\n",
            "\u001b[0;32m/usr/local/lib/python3.10/dist-packages/ipykernel/kernelbase.py\u001b[0m in \u001b[0;36m_input_request\u001b[0;34m(self, prompt, ident, parent, password)\u001b[0m\n\u001b[1;32m    893\u001b[0m             \u001b[0;32mexcept\u001b[0m \u001b[0mKeyboardInterrupt\u001b[0m\u001b[0;34m:\u001b[0m\u001b[0;34m\u001b[0m\u001b[0;34m\u001b[0m\u001b[0m\n\u001b[1;32m    894\u001b[0m                 \u001b[0;31m# re-raise KeyboardInterrupt, to truncate traceback\u001b[0m\u001b[0;34m\u001b[0m\u001b[0;34m\u001b[0m\u001b[0m\n\u001b[0;32m--> 895\u001b[0;31m                 \u001b[0;32mraise\u001b[0m \u001b[0mKeyboardInterrupt\u001b[0m\u001b[0;34m(\u001b[0m\u001b[0;34m\"Interrupted by user\"\u001b[0m\u001b[0;34m)\u001b[0m \u001b[0;32mfrom\u001b[0m \u001b[0;32mNone\u001b[0m\u001b[0;34m\u001b[0m\u001b[0;34m\u001b[0m\u001b[0m\n\u001b[0m\u001b[1;32m    896\u001b[0m             \u001b[0;32mexcept\u001b[0m \u001b[0mException\u001b[0m \u001b[0;32mas\u001b[0m \u001b[0me\u001b[0m\u001b[0;34m:\u001b[0m\u001b[0;34m\u001b[0m\u001b[0;34m\u001b[0m\u001b[0m\n\u001b[1;32m    897\u001b[0m                 \u001b[0mself\u001b[0m\u001b[0;34m.\u001b[0m\u001b[0mlog\u001b[0m\u001b[0;34m.\u001b[0m\u001b[0mwarning\u001b[0m\u001b[0;34m(\u001b[0m\u001b[0;34m\"Invalid Message:\"\u001b[0m\u001b[0;34m,\u001b[0m \u001b[0mexc_info\u001b[0m\u001b[0;34m=\u001b[0m\u001b[0;32mTrue\u001b[0m\u001b[0;34m)\u001b[0m\u001b[0;34m\u001b[0m\u001b[0;34m\u001b[0m\u001b[0m\n",
            "\u001b[0;31mKeyboardInterrupt\u001b[0m: Interrupted by user"
          ]
        }
      ]
    },
    {
      "cell_type": "code",
      "source": [
        "l=[[],[]]\n",
        "l[0].append(50)\n",
        "print(l)"
      ],
      "metadata": {
        "colab": {
          "base_uri": "https://localhost:8080/"
        },
        "id": "L4n_C3bpZUfZ",
        "outputId": "bbcebbd0-8622-4f10-c067-d2d9d0441e58"
      },
      "execution_count": null,
      "outputs": [
        {
          "output_type": "stream",
          "name": "stdout",
          "text": [
            "[[50], []]\n"
          ]
        }
      ]
    },
    {
      "cell_type": "code",
      "source": [
        "class twoStacks:\n",
        "  def __init__(self,n):\n",
        "    self.size=n\n",
        "    self.ar=[None]*n\n",
        "    self.top1=-1\n",
        "    self.top2=self.size\n",
        "  def push1(self,x):\n",
        "    if self.top1<self.top2-1:\n",
        "      self.top1=self.top1+1\n",
        "      self.ar[self.top1]=x\n",
        "    else:\n",
        "      print(\"stack overflow\")\n",
        "      exit(1)\n",
        "  def push2(self,x):\n",
        "    if self.top1<self.top2-1:\n",
        "      self.top2=self.top2-1\n",
        "      self.ar[self.top2]=x\n",
        "    else:\n",
        "      print(\"stack overflow\")\n",
        "      exit(1)\n",
        "  def pop1(self):\n",
        "    if self.top1>=0:\n",
        "      x=self.ar[self.top1]\n",
        "      self.top1=self.top1-1\n",
        "      return x\n",
        "    else:\n",
        "      print(\"stack underflow\")\n",
        "      exit(1)\n",
        "  def pop2(self):\n",
        "    if self.top2<self.size:\n",
        "      x=self.ar[self.top2]\n",
        "      self.top2=self.top2+1\n",
        "      return x\n",
        "    else:\n",
        "      print(\"stack Underflow\")\n",
        "      exit()\n",
        "ts=twoStacks(5)\n",
        "ts.push1(5)\n",
        "ts.push2(10)\n",
        "ts.push2(16)\n",
        "ts.push1(13)\n",
        "ts.push2(6)\n",
        "print(\"popped element from stack1 is \"+ str(ts.pop1()))\n",
        "ts.push2(12)\n",
        "print(\"popped element from stack2 is \"+str(ts.pop2()))\n"
      ],
      "metadata": {
        "colab": {
          "base_uri": "https://localhost:8080/"
        },
        "id": "gR6jwInibX06",
        "outputId": "25894ad0-09db-4423-a453-fbe078c0534d"
      },
      "execution_count": null,
      "outputs": [
        {
          "output_type": "stream",
          "name": "stdout",
          "text": [
            "popped element from stack1 is 13\n",
            "popped element from stack2 is 12\n"
          ]
        }
      ]
    },
    {
      "cell_type": "code",
      "source": [],
      "metadata": {
        "id": "DBeIp5xkq_1N"
      },
      "execution_count": null,
      "outputs": []
    }
  ]
}