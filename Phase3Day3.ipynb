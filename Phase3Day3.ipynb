{
  "nbformat": 4,
  "nbformat_minor": 0,
  "metadata": {
    "colab": {
      "provenance": [],
      "authorship_tag": "ABX9TyPnDk0HnQKhZt2xyY+oZ+Nu",
      "include_colab_link": true
    },
    "kernelspec": {
      "name": "python3",
      "display_name": "Python 3"
    },
    "language_info": {
      "name": "python"
    }
  },
  "cells": [
    {
      "cell_type": "markdown",
      "metadata": {
        "id": "view-in-github",
        "colab_type": "text"
      },
      "source": [
        "<a href=\"https://colab.research.google.com/github/20A31A0504/TechnicalTrainingPhase3/blob/main/Phase3Day3.ipynb\" target=\"_parent\"><img src=\"https://colab.research.google.com/assets/colab-badge.svg\" alt=\"Open In Colab\"/></a>"
      ]
    },
    {
      "cell_type": "code",
      "execution_count": null,
      "metadata": {
        "colab": {
          "base_uri": "https://localhost:8080/"
        },
        "id": "EkNKKjBlYudU",
        "outputId": "7b4911f9-4684-4d43-e6bc-5d440258bd6a"
      },
      "outputs": [
        {
          "output_type": "stream",
          "name": "stdout",
          "text": [
            "vertex \t Distance from source \n",
            "0 \t\t 0\n",
            "1 \t\t 1\n",
            "2 \t\t 1\n",
            "3 \t\t 1\n",
            "4 \t\t 1\n",
            "5 \t\t 1\n",
            "6 \t\t 1\n",
            "7 \t\t 1\n",
            "8 \t\t 1\n"
          ]
        }
      ],
      "source": [
        "class Graph():\n",
        "  def __init__(self,vertices):\n",
        "    self.V=vertices\n",
        "    self.graph=[[0 for column in range(vertices)]\n",
        "                for row in range(vertices)]\n",
        "  def printSolution(self,dist):\n",
        "    print(\"vertex \\t Distance from source \")\n",
        "    for node in range(self.V):\n",
        "      print(node, \"\\t\\t\", dist[node])\n",
        "  def minDistance(self,dist,sptSet):\n",
        "    min=len7\n",
        "    min_index=0\n",
        "    for v in range(self.V):\n",
        "      if dist[v]<min and sptSet[v]==False:\n",
        "        min=dist[v]\n",
        "        min_index=v\n",
        "    return min_index\n",
        "  def dijkstra(self,src):\n",
        "    dist=[len7]*self.V\n",
        "    dist[src]=0\n",
        "    sptSet=[False]*self.V\n",
        "    for cout in range(self.V):\n",
        "      u=self.minDistance(dist,sptSet)\n",
        "      sptSet[u]=True\n",
        "      for v in range(self.V):\n",
        "        if(self.graph[u][v]>0 and sptSet[v]==False and dist[v]>dist[u]+self.graph[u][v]):\n",
        "          dist[v]=dist[u]+self.graph[u][v]\n",
        "    self.printSolution(dist)\n",
        "g=Graph(9)\n",
        "g.graph=[[0,4,0,0,0,0,0,8,0],\n",
        "         [4,0,8,0,0,0,0,11,0],\n",
        "         [0,8,0,7,0,4,0,0,2],\n",
        "         [0,0,7,0,9,14,0,0,0],\n",
        "         [0,0,0,9,0,10,0,0,0],\n",
        "         [0,0,4,14,10,0,2,0,0],\n",
        "         [0,0,0,0,0,2,0,1,6],\n",
        "         [8,11,0,0,0,0,1,0,7],\n",
        "         [0,0,2,0,0,0,6,7,0]]\n",
        "g.dijkstra(0)\n"
      ]
    },
    {
      "cell_type": "code",
      "source": [
        "#bellmanFord\n",
        "from sys import maxsize\n",
        "def BellmanFord(graph,V,E,src):\n",
        "  dis=[maxsize]*V\n",
        "  dis[src]=0\n",
        "  for i in range(V-1):\n",
        "    for j in range(E):\n",
        "      if dis[graph[j][0]]+ graph[j][2] < dis[graph[j][1]]:\n",
        "        dis[graph[j][1]] = dis[graph[j][0]] + graph[j][2]\n",
        "  for i in range(E):\n",
        "    x=graph[i][0]\n",
        "    y=graph[i][1]\n",
        "    weight=graph[i][2]\n",
        "    if dis[x]!=maxsize and dis[x] + weight< dis[y]:\n",
        "      print(\"Graph contains negative weight\")\n",
        "  print(\"vertex Distance from source\")\n",
        "  for i in range(V):\n",
        "    print(\"%d\\t\\t%d\" %(i, dis[i]))\n",
        "if __name__==\"__main__\":\n",
        "  V=5\n",
        "  E=8\n",
        "  graph=[[0,1,-1],[0,2,4],[1,2,3],\n",
        "         [1,3,2],[1,4,2],[3,2,5],\n",
        "         [3,1,1],[4,3,-3]]\n",
        "  BellmanFord(graph,V,E,0)"
      ],
      "metadata": {
        "colab": {
          "base_uri": "https://localhost:8080/"
        },
        "id": "XRpCEBXUfgpO",
        "outputId": "f6782c67-aaff-40e3-c22f-2824de927d32"
      },
      "execution_count": null,
      "outputs": [
        {
          "output_type": "stream",
          "name": "stdout",
          "text": [
            "vertex Distance from source\n",
            "0\t\t0\n",
            "1\t\t-1\n",
            "2\t\t2\n",
            "3\t\t-2\n",
            "4\t\t1\n"
          ]
        }
      ]
    },
    {
      "cell_type": "code",
      "source": [],
      "metadata": {
        "id": "jyTFyV_0ropQ"
      },
      "execution_count": null,
      "outputs": []
    }
  ]
}