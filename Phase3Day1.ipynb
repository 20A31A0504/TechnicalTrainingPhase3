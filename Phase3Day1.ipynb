{
  "nbformat": 4,
  "nbformat_minor": 0,
  "metadata": {
    "colab": {
      "provenance": [],
      "authorship_tag": "ABX9TyO8JSuo6UfEi6HaTtZ4DRNT",
      "include_colab_link": true
    },
    "kernelspec": {
      "name": "python3",
      "display_name": "Python 3"
    },
    "language_info": {
      "name": "python"
    }
  },
  "cells": [
    {
      "cell_type": "markdown",
      "metadata": {
        "id": "view-in-github",
        "colab_type": "text"
      },
      "source": [
        "<a href=\"https://colab.research.google.com/github/20A31A0504/TechnicalTrainingPhase3/blob/main/Phase3Day1.ipynb\" target=\"_parent\"><img src=\"https://colab.research.google.com/assets/colab-badge.svg\" alt=\"Open In Colab\"/></a>"
      ]
    },
    {
      "cell_type": "code",
      "execution_count": null,
      "metadata": {
        "id": "vmcLjV7X5euR"
      },
      "outputs": [],
      "source": []
    },
    {
      "cell_type": "code",
      "source": [
        "l=list(map(int,input().split()))\n",
        "m=l[0]\n",
        "for i in range(len(l)):\n",
        "  if(l[i]>m):\n",
        "    m=l[i]\n",
        "print(m)"
      ],
      "metadata": {
        "colab": {
          "base_uri": "https://localhost:8080/"
        },
        "id": "mgG-yiAi-bPx",
        "outputId": "fefaee2c-0d96-4687-bd81-daae7de7d71b"
      },
      "execution_count": null,
      "outputs": [
        {
          "output_type": "stream",
          "name": "stdout",
          "text": [
            "22 34 66 27 36 89 57 4 5 34\n",
            "89\n"
          ]
        }
      ]
    },
    {
      "cell_type": "code",
      "source": [
        "def fact(n):\n",
        "  if n==0:\n",
        "    return 1\n",
        "  if n==1:\n",
        "    return 1\n",
        "  else:\n",
        "    return n*fact(n-1)\n",
        "fact(6)\n"
      ],
      "metadata": {
        "colab": {
          "base_uri": "https://localhost:8080/"
        },
        "id": "vKXzf2Qe-yaj",
        "outputId": "306ccdc5-331c-4adc-b035-3f88231d6eff"
      },
      "execution_count": null,
      "outputs": [
        {
          "output_type": "execute_result",
          "data": {
            "text/plain": [
              "720"
            ]
          },
          "metadata": {},
          "execution_count": 12
        }
      ]
    },
    {
      "cell_type": "code",
      "source": [
        "l=list(map(int,input().split()))//bubble sort\n",
        "for i in range(len(l)-1):\n",
        "  for j in range(i+1,len(l)):\n",
        "    if(l[i]>l[j]):\n",
        "      l[i],l[j]=l[j],l[i]\n",
        "for i in range(len(l)):\n",
        "  print(l[i])\n"
      ],
      "metadata": {
        "colab": {
          "base_uri": "https://localhost:8080/"
        },
        "id": "5BA94teu_p4v",
        "outputId": "f054a173-fda7-4f82-dd67-58e8b1a821c3"
      },
      "execution_count": null,
      "outputs": [
        {
          "output_type": "stream",
          "name": "stdout",
          "text": [
            "23 4 22 64 3 765\n",
            "3\n",
            "4\n",
            "22\n",
            "23\n",
            "64\n",
            "765\n"
          ]
        }
      ]
    },
    {
      "cell_type": "code",
      "source": [
        "n=int(input())\n",
        "l=[]\n",
        "s=0\n",
        "while(n!=0):\n",
        "  r=n%10\n",
        "  l.append(r)\n",
        "  s+=r\n",
        "  n=n//10\n",
        "l.reverse()\n",
        "for i in l:\n",
        "  print(i,end=\" \")\n",
        "print(s)\n"
      ],
      "metadata": {
        "colab": {
          "base_uri": "https://localhost:8080/"
        },
        "id": "IZl0cP-5BUbB",
        "outputId": "6262a105-65fc-4f3c-d05b-720d740ce0e4"
      },
      "execution_count": null,
      "outputs": [
        {
          "output_type": "stream",
          "name": "stdout",
          "text": [
            "235445\n",
            "2 3 5 4 4 5 23\n"
          ]
        }
      ]
    },
    {
      "cell_type": "code",
      "source": [
        "s=input()\n",
        "s1=s[::-1]\n",
        "if s==s1:\n",
        "  print(\"palindrome\")\n",
        "else:\n",
        "  print(\"not a palindrome\")\n"
      ],
      "metadata": {
        "colab": {
          "base_uri": "https://localhost:8080/"
        },
        "id": "JOxe9ipJB8J9",
        "outputId": "bbd215e5-121c-4074-f273-090237f9ff0a"
      },
      "execution_count": null,
      "outputs": [
        {
          "output_type": "stream",
          "name": "stdout",
          "text": [
            "madam\n",
            "palindrome\n"
          ]
        }
      ]
    },
    {
      "cell_type": "code",
      "source": [
        "n=int(input())\n",
        "f1=0\n",
        "f2=1\n",
        "l=[0,1]\n",
        "for i in range(2,n):\n",
        "  f3=f1+f2\n",
        "  l.append(f3)\n",
        "  f1=f2\n",
        "  f2=f3\n",
        "print(l[-1])\n"
      ],
      "metadata": {
        "colab": {
          "base_uri": "https://localhost:8080/"
        },
        "id": "tGUmcsSVYGad",
        "outputId": "1c3ca23c-3a3c-46a6-9196-70f570afe9dc"
      },
      "execution_count": null,
      "outputs": [
        {
          "output_type": "stream",
          "name": "stdout",
          "text": [
            "8\n",
            "13\n"
          ]
        }
      ]
    },
    {
      "cell_type": "code",
      "source": [
        "def fib(n):\n",
        "  if n<0:\n",
        "    print(\"invalid input\")\n",
        "  elif n==0:\n",
        "    return 0\n",
        "  elif n==1:\n",
        "    return 1\n",
        "  return fib(n-1)+fib(n-2)\n",
        "print(fib(9))"
      ],
      "metadata": {
        "colab": {
          "base_uri": "https://localhost:8080/"
        },
        "id": "4d2RYo7O9Fyw",
        "outputId": "2098485b-8c58-4322-b8bd-103b47575c17"
      },
      "execution_count": null,
      "outputs": [
        {
          "output_type": "stream",
          "name": "stdout",
          "text": [
            "34\n"
          ]
        }
      ]
    },
    {
      "cell_type": "code",
      "source": [
        "def create_stack():\n",
        "  stack=[]\n",
        "  return stack\n",
        "def check_empty()"
      ],
      "metadata": {
        "id": "o1X2eiXEaBrC"
      },
      "execution_count": null,
      "outputs": []
    },
    {
      "cell_type": "code",
      "source": [
        "12%5"
      ],
      "metadata": {
        "colab": {
          "base_uri": "https://localhost:8080/"
        },
        "id": "4qJBmAJoDcdN",
        "outputId": "2f48fda9-5d5f-4a0b-8aff-03dbd0f34805"
      },
      "execution_count": null,
      "outputs": [
        {
          "output_type": "execute_result",
          "data": {
            "text/plain": [
              "2"
            ]
          },
          "metadata": {},
          "execution_count": 5
        }
      ]
    },
    {
      "cell_type": "code",
      "source": [
        "a=[23,4,21,6,28,5,62]\n",
        "key=6\n",
        "for i in range(len(a)):\n",
        "  if(a[i]==key):\n",
        "    print(i)\n",
        "    break"
      ],
      "metadata": {
        "colab": {
          "base_uri": "https://localhost:8080/"
        },
        "id": "N5P06heCDgSg",
        "outputId": "574c3b37-e81d-405b-a7fc-caa9a9b58495"
      },
      "execution_count": null,
      "outputs": [
        {
          "output_type": "stream",
          "name": "stdout",
          "text": [
            "3\n"
          ]
        }
      ]
    },
    {
      "cell_type": "code",
      "source": [
        "b=[4,33,66,74,88,93]#binary search\n",
        "key=74\n",
        "l=0\n",
        "h=len(b)-1\n",
        "while(l<=h):\n",
        "  mid=(h+l)//2\n",
        "  if b[mid]==key:\n",
        "    print(\"key is at\",mid, \"and is\", b[mid])\n",
        "    break\n",
        "  else:\n",
        "    if(b[mid]<key):\n",
        "      l=mid+1\n",
        "    else:\n",
        "      h=mid-1\n",
        "else:\n",
        "  print(\"not found\")\n",
        "\n"
      ],
      "metadata": {
        "colab": {
          "base_uri": "https://localhost:8080/"
        },
        "id": "vnVxOr_UIJp6",
        "outputId": "31fbf697-f5da-43ac-9b3c-30ecb7255c4e"
      },
      "execution_count": null,
      "outputs": [
        {
          "output_type": "stream",
          "name": "stdout",
          "text": [
            "key is at 3 and is 74\n"
          ]
        }
      ]
    },
    {
      "cell_type": "code",
      "source": [
        "#bubble sort\n",
        "l=[23,4 ,22, 64, 3, 765]\n",
        "for i in range(len(l)):\n",
        "  for j in range(len(l)-1):\n",
        "    if l[j]>l[j+1]:\n",
        "      l[j],l[j+1]=l[j+1],l[j]\n",
        "print(l)\n"
      ],
      "metadata": {
        "colab": {
          "base_uri": "https://localhost:8080/"
        },
        "id": "rph8K6HRKTtV",
        "outputId": "6e6cba0e-40f0-4b14-be64-486997d3af6e"
      },
      "execution_count": null,
      "outputs": [
        {
          "output_type": "stream",
          "name": "stdout",
          "text": [
            "[4, 22, 23, 3, 64, 765]\n"
          ]
        }
      ]
    },
    {
      "cell_type": "code",
      "source": [
        "def addition(n):\n",
        "  return n+n\n",
        "numbers=(1,2,3,4)\n",
        "result=map(addition,numbers)\n",
        "print(list(result))"
      ],
      "metadata": {
        "id": "GjzeQX0BNeqo",
        "colab": {
          "base_uri": "https://localhost:8080/"
        },
        "outputId": "e2603196-b7dd-48ce-edcf-a367feded0ac"
      },
      "execution_count": null,
      "outputs": [
        {
          "output_type": "stream",
          "name": "stdout",
          "text": [
            "[2, 4, 6, 8]\n"
          ]
        }
      ]
    },
    {
      "cell_type": "code",
      "source": [
        "l=[1,2,3]\n",
        "r=map(lambda x:x+x,l)\n",
        "print(list(r))\n",
        "\n",
        "res=map(lambda n:pow(n,2),l)\n",
        "print(list(res))\n",
        "\n",
        "name=\"sam\"\n",
        "(lambda name: print(name))(name)"
      ],
      "metadata": {
        "colab": {
          "base_uri": "https://localhost:8080/"
        },
        "id": "f8vQdjpQHirM",
        "outputId": "de42697a-1bae-449a-df8b-4c929da8bacd"
      },
      "execution_count": null,
      "outputs": [
        {
          "output_type": "stream",
          "name": "stdout",
          "text": [
            "[2, 4, 6]\n",
            "[1, 4, 9]\n",
            "sam\n"
          ]
        }
      ]
    },
    {
      "cell_type": "code",
      "source": [],
      "metadata": {
        "id": "7MYbZanMJL5l"
      },
      "execution_count": null,
      "outputs": []
    }
  ]
}